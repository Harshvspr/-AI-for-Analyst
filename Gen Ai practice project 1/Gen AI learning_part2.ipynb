{
 "cells": [
  {
   "cell_type": "code",
   "execution_count": 1,
   "id": "af334efb-54ca-480a-99a3-b55aa40f35a1",
   "metadata": {},
   "outputs": [],
   "source": [
    "import os \n",
    "from langchain_google_genai import ChatGoogleGenerativeAI "
   ]
  },
  {
   "cell_type": "code",
   "execution_count": null,
   "id": "3d3b6bcb-fbd6-43da-b8a5-69edd0c81f98",
   "metadata": {},
   "outputs": [],
   "source": [
    "os.environ['Google_api_key']  = \"Your_api_key\" "
   ]
  },
  {
   "cell_type": "code",
   "execution_count": 3,
   "id": "e4e31797-73a5-4c5f-8bc8-4c6e928b9682",
   "metadata": {},
   "outputs": [],
   "source": [
    "llm = ChatGoogleGenerativeAI(\n",
    "    model=\"models/gemini-1.5-flash\",\n",
    "    temperature=0.6,\n",
    "    max_output_tokens=100  # prevent long outputs\n",
    ")"
   ]
  },
  {
   "cell_type": "code",
   "execution_count": 4,
   "id": "371d10ff-9566-43e5-bf19-0b51cc929090",
   "metadata": {},
   "outputs": [
    {
     "name": "stdout",
     "output_type": "stream",
     "text": [
      "content=\"Plants use sunlight, water, and air (carbon dioxide) to make their own food (sugar) and release oxygen.  It's like cooking with sunlight!\" additional_kwargs={} response_metadata={'prompt_feedback': {'block_reason': 0, 'safety_ratings': []}, 'finish_reason': 'STOP', 'safety_ratings': []} id='run--6a2a10ca-aa92-4c67-84b9-5982f3a0a63c-0' usage_metadata={'input_tokens': 5, 'output_tokens': 34, 'total_tokens': 39, 'input_token_details': {'cache_read': 0}}\n"
     ]
    }
   ],
   "source": [
    "response = llm.invoke(\"Explain photosynthesis in simple words\") # invoke is used to pass the prompt\n",
    "print(response)"
   ]
  },
  {
   "cell_type": "code",
   "execution_count": 5,
   "id": "fc083259-3983-4e3f-b898-a3adca31a7ed",
   "metadata": {},
   "outputs": [],
   "source": [
    "from langchain.prompts import PromptTemplate # here we see again langchain is use ,it means it act as a tool to interact with LLM\n",
    "promp_template_name = PromptTemplate(\n",
    "    input_variables = ['Cuisine'],\n",
    "    template = \"I want to open a new restraunt for {Cuisine} food.Suggest a fancy name for this.\")"
   ]
  },
  {
   "cell_type": "code",
   "execution_count": 6,
   "id": "79be49c7-6b85-4063-84a8-b9af64704ed8",
   "metadata": {},
   "outputs": [
    {
     "name": "stdout",
     "output_type": "stream",
     "text": [
      "I want to open a new restraunt for Italian food.Suggest a fancy name for this.\n"
     ]
    }
   ],
   "source": [
    "print(promp_template_name.format(Cuisine = 'Italian'))"
   ]
  },
  {
   "cell_type": "code",
   "execution_count": 9,
   "id": "f0e0070b-6262-469a-967a-9651aa05ca91",
   "metadata": {},
   "outputs": [],
   "source": [
    "# langchain is library which contain folder 'chain'which contain chain related class LLMChain\n",
    "chain = promp_template_name | llm # this thing same work like LLMchain but its new method apply when we have to conenct prompt too llm \n",
    "result = chain.invoke({\"Cuisine\": \"INDIAN\"}) "
   ]
  },
  {
   "cell_type": "code",
   "execution_count": 30,
   "id": "9561d953-f913-44b4-a780-d8260e090022",
   "metadata": {},
   "outputs": [
    {
     "name": "stderr",
     "output_type": "stream",
     "text": [
      "C:\\Users\\Harsh\\AppData\\Local\\Temp\\ipykernel_21328\\1965020611.py:9: LangChainDeprecationWarning: The class `LLMChain` was deprecated in LangChain 0.1.17 and will be removed in 1.0. Use :meth:`~RunnableSequence, e.g., `prompt | llm`` instead.\n",
      "  name_chain = LLMChain(llm=llm, prompt=name_prompt)\n",
      "C:\\Users\\Harsh\\AppData\\Local\\Temp\\ipykernel_21328\\1965020611.py:25: LangChainDeprecationWarning: The method `Chain.run` was deprecated in langchain 0.1.0 and will be removed in 1.0. Use :meth:`~invoke` instead.\n",
      "  result = full_chain.run(\"Indian\")\n"
     ]
    },
    {
     "name": "stdout",
     "output_type": "stream",
     "text": [
      "\n",
      "\n",
      "\u001b[1m> Entering new SimpleSequentialChain chain...\u001b[0m\n",
      "\u001b[36;1m\u001b[1;3m**Evocative & Elegant:**\n",
      "\n",
      "* The Saffron Thread\n",
      "* Jewel of the Ganges\n",
      "* The Spice Route\n",
      "* Amber & Saffron\n",
      "* The Maharaja's Table\n",
      "* The Tamarind Tree\n",
      "* Celestial Curry\n",
      "* The Golden Turmeric\n",
      "* Agra's Embrace\n",
      "* The Royal Tandoor\n",
      "\n",
      "**Modern & Chic:**\n",
      "\n",
      "* Rasa\n",
      "* Agni\n",
      "* Masalá\n",
      "* Amara\n",
      "*  Indiya\n",
      "*  Spice & Vine\n",
      "*  Curries\u001b[0m\n",
      "\u001b[33;1m\u001b[1;3m**Evocative & Elegant:**\n",
      "\n",
      "* **The Saffron Thread:** Saffron-infused risotto with lobster, delicate asparagus spears, and a saffron aioli.\n",
      "* **Jewel of the Ganges:**  Pan-seared scallops with a mango-ginger chutney, served atop a bed of coconut rice.\n",
      "* **The Spice Route:** Slow-cooked lamb shank with aromatic spices, served with saffron-infused couscous and roasted vegetables.\n",
      "* **Amber & Saffron:**  Duck confit with\u001b[0m\n",
      "\n",
      "\u001b[1m> Finished chain.\u001b[0m\n",
      "**Evocative & Elegant:**\n",
      "\n",
      "* **The Saffron Thread:** Saffron-infused risotto with lobster, delicate asparagus spears, and a saffron aioli.\n",
      "* **Jewel of the Ganges:**  Pan-seared scallops with a mango-ginger chutney, served atop a bed of coconut rice.\n",
      "* **The Spice Route:** Slow-cooked lamb shank with aromatic spices, served with saffron-infused couscous and roasted vegetables.\n",
      "* **Amber & Saffron:**  Duck confit with\n"
     ]
    }
   ],
   "source": [
    "from langchain.prompts import PromptTemplate\n",
    "from langchain.chains import LLMChain, SimpleSequentialChain\n",
    "\n",
    "# First chain - gets restaurant name\n",
    "name_prompt = PromptTemplate(\n",
    "    input_variables=[\"cuisine\"],\n",
    "    template=\"Suggest a fancy restaurant name for {cuisine} food.\"\n",
    ")\n",
    "name_chain = LLMChain(llm=llm, prompt=name_prompt)\n",
    "\n",
    "# Second chain - gets menu items\n",
    "menu_prompt = PromptTemplate(\n",
    "    input_variables=[\"restaurant_name\"], \n",
    "    template=\"Suggest menu items for {restaurant_name}. Return comma separated.\"\n",
    ")\n",
    "menu_chain = LLMChain(llm=llm, prompt=menu_prompt)\n",
    "\n",
    "# Connect them\n",
    "full_chain = SimpleSequentialChain(\n",
    "    chains=[name_chain, menu_chain],\n",
    "    verbose=True\n",
    ")\n",
    "\n",
    "# Run it\n",
    "result = full_chain.run(\"Indian\")\n",
    "print(result) # here we error and result at same time beacuse this syntax is old version of creating combining chain."
   ]
  },
  {
   "cell_type": "code",
   "execution_count": 38,
   "id": "31f7ab31-0c79-46a2-96c7-a8f39227ed5f",
   "metadata": {},
   "outputs": [],
   "source": [
    "# now to see the things at the same columns means we see the restarunt name and menur items at same time we use squenetialchain not simple one\n",
    "# First chain - gets restaurant name\n",
    "# First chain - gets restaurant name\n",
    "name_prompt = PromptTemplate(\n",
    "    input_variables=[\"cuisine\"],\n",
    "    template=\"Suggest a fancy restaurant name for {cuisine} food.\"\n",
    ")\n",
    "name_chain = LLMChain(llm=llm, prompt=name_prompt, output_key='restaurant_name')\n",
    "\n",
    "# Second chain - gets menu items\n",
    "menu_prompt = PromptTemplate(\n",
    "    input_variables=[\"restaurant_name\"], \n",
    "    template=\"Suggest menu items for {restaurant_name}. Return comma separated.\"\n",
    ")\n",
    "menu_chain = LLMChain(llm=llm, prompt=menu_prompt, output_key='menu_items')"
   ]
  },
  {
   "cell_type": "code",
   "execution_count": 45,
   "id": "98b8872f-95d3-41e3-9c6d-3935f52825e9",
   "metadata": {},
   "outputs": [
    {
     "name": "stdout",
     "output_type": "stream",
     "text": [
      "\n",
      "\n",
      "\u001b[1m> Entering new SequentialChain chain...\u001b[0m\n",
      "\n",
      "\u001b[1m> Finished chain.\u001b[0m\n",
      "{'cuisine': 'Indian', 'restaurant_name': \"**Evoking Luxury & Elegance:**\\n\\n* The Saffron Thread\\n* Amber & Spice\\n* The Jewel of Agra\\n* Maharani's Table\\n* The Royal Curry House\\n* The Gilded Tandoor\\n* Crimson & Cardamom\\n* Spice & Silk\\n* The Emerald Cumin\\n* Celestial Curry\\n\\n\\n**Evoking a Specific Region or Cuisine:**\\n\\n* The Kashmir Kitchen (if focusing on Kashmiri cuisine)\\n* The Hyderabadi Palace (if focusing on Hy\", 'menu_items': '**Evoking Luxury & Elegance:**\\n\\n* **The Saffron Thread:**  Lobster Thermidor with saffron-infused béchamel,  Wagyu Beef Tenderloin with black truffle jus,  White Asparagus and Parmesan Risotto.\\n* **Amber & Spice:**  Spiced Duck Confit with apricot chutney,  Pan-seared scallops with cardamom-infused butter sauce,  Rosewater and pistachio panna cotta.\\n* **The Jewel of Agra:**  Tandoori Rack of'}\n"
     ]
    }
   ],
   "source": [
    "from langchain.chains import SequentialChain\n",
    "full_chain = SequentialChain(\n",
    "    chains=[name_chain, menu_chain],\n",
    "    input_variables=[\"cuisine\"],\n",
    "    output_variables=[\"restaurant_name\", \"menu_items\"],\n",
    "    verbose=True\n",
    ")\n",
    "result = full_chain({\"cuisine\": \"Indian\"})\n",
    "print(result)"
   ]
  },
  {
   "cell_type": "code",
   "execution_count": null,
   "id": "2a003c78-6a3f-4c02-8be2-7d657769af53",
   "metadata": {},
   "outputs": [],
   "source": []
  }
 ],
 "metadata": {
  "kernelspec": {
   "display_name": "Python 3 (ipykernel)",
   "language": "python",
   "name": "python3"
  },
  "language_info": {
   "codemirror_mode": {
    "name": "ipython",
    "version": 3
   },
   "file_extension": ".py",
   "mimetype": "text/x-python",
   "name": "python",
   "nbconvert_exporter": "python",
   "pygments_lexer": "ipython3",
   "version": "3.13.2"
  }
 },
 "nbformat": 4,
 "nbformat_minor": 5
}
