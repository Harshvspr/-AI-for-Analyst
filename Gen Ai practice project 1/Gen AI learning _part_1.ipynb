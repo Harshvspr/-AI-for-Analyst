{
 "cells": [
  {
   "cell_type": "code",
   "execution_count": 14,
   "id": "af334efb-54ca-480a-99a3-b55aa40f35a1",
   "metadata": {},
   "outputs": [],
   "source": [
    "import os \n",
    "from langchain_google_genai import ChatGoogleGenerativeAI "
   ]
  },
  {
   "cell_type": "code",
   "execution_count": null,
   "id": "3d3b6bcb-fbd6-43da-b8a5-69edd0c81f98",
   "metadata": {},
   "outputs": [],
   "source": [
    "os.environ['Google_api_key']  = \"your_api_key\" "
   ]
  },
  {
   "cell_type": "code",
   "execution_count": 23,
   "id": "e4e31797-73a5-4c5f-8bc8-4c6e928b9682",
   "metadata": {},
   "outputs": [],
   "source": [
    "llm = ChatGoogleGenerativeAI(\n",
    "    model=\"models/gemini-1.5-flash\",\n",
    "    temperature=0.6,\n",
    "    max_output_tokens=100  # prevent long outputs\n",
    ")"
   ]
  },
  {
   "cell_type": "code",
   "execution_count": 24,
   "id": "371d10ff-9566-43e5-bf19-0b51cc929090",
   "metadata": {},
   "outputs": [
    {
     "name": "stdout",
     "output_type": "stream",
     "text": [
      "content=\"Plants use sunlight, water, and air (carbon dioxide) to make their own food (sugar) and release oxygen.  It's like cooking, but using sunlight as the energy source!\" additional_kwargs={} response_metadata={'prompt_feedback': {'block_reason': 0, 'safety_ratings': []}, 'finish_reason': 'STOP', 'safety_ratings': []} id='run--d0ed8fc3-4acb-480d-9546-af2374362360-0' usage_metadata={'input_tokens': 5, 'output_tokens': 40, 'total_tokens': 45, 'input_token_details': {'cache_read': 0}}\n"
     ]
    }
   ],
   "source": [
    "response = llm.invoke(\"Explain photosynthesis in simple words\") # invoke is used to pass the prompt\n",
    "print(response)"
   ]
  },
  {
   "cell_type": "code",
   "execution_count": 27,
   "id": "fc083259-3983-4e3f-b898-a3adca31a7ed",
   "metadata": {},
   "outputs": [],
   "source": [
    "from langchain.prompts import PromptTemplate # here we see again langchain is use ,it means it act as a tool to interact with LLM\n",
    "promp_template_name = PromptTemplate(\n",
    "    input_variables = ['Cuisine'],\n",
    "    template = \"I want to open a new restraunt for {Cuisine} food.Suggest a fancy name for this.\")"
   ]
  },
  {
   "cell_type": "code",
   "execution_count": 28,
   "id": "79be49c7-6b85-4063-84a8-b9af64704ed8",
   "metadata": {},
   "outputs": [
    {
     "name": "stdout",
     "output_type": "stream",
     "text": [
      "I want to open a new restraunt for Italian food.Suggest a fancy name for this.\n"
     ]
    }
   ],
   "source": [
    "print(promp_template_name.format(Cuisine = 'Italian'))"
   ]
  },
  {
   "cell_type": "code",
   "execution_count": null,
   "id": "f0e0070b-6262-469a-967a-9651aa05ca91",
   "metadata": {},
   "outputs": [],
   "source": [
    "from langchain.chains import LLMChain    # langchain is library which contain folder 'chain'which contain chain related class LLMChain\n",
    "chain = promp_template_name | llm\n",
    "result = chain.invoke({\"Cuisine\": \"INDIAN\"}) \n",
    "print(result)"
   ]
  },
  {
   "cell_type": "code",
   "execution_count": null,
   "id": "9561d953-f913-44b4-a780-d8260e090022",
   "metadata": {},
   "outputs": [],
   "source": []
  }
 ],
 "metadata": {
  "kernelspec": {
   "display_name": "Python 3 (ipykernel)",
   "language": "python",
   "name": "python3"
  },
  "language_info": {
   "codemirror_mode": {
    "name": "ipython",
    "version": 3
   },
   "file_extension": ".py",
   "mimetype": "text/x-python",
   "name": "python",
   "nbconvert_exporter": "python",
   "pygments_lexer": "ipython3",
   "version": "3.13.2"
  }
 },
 "nbformat": 4,
 "nbformat_minor": 5
}
